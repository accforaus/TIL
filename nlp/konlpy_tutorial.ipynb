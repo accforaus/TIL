{
 "cells": [
  {
   "cell_type": "markdown",
   "metadata": {},
   "source": [
    "## 형태소 분석 \n",
    "형태소 분석을 위해서는 Konlpy 또는 Soynlp 라이브러리를 사용한다.  \n",
    "\n",
    "일단 Konlpy의 Twitter라는 형태소 분석기를 사용할려한다."
   ]
  },
  {
   "cell_type": "markdown",
   "metadata": {},
   "source": [
    "### Konlpy 설치하기 ( 윈도우 )\n",
    "\n",
    "0. https://www.lfd.uci.edu/~gohlke/pythonlibs/#jpype 해당 사이트에서 자신의 버전에 맞는 JPype1 다운로드\n",
    "1. pip install --upgrade pip\n",
    "2. pip install JPype1-0.5.7-cp27-none-win_amd64.whl\n",
    "3. JAVA_HOME 환경 변수 설정\n",
    "4. pip install jpype1\n",
    "5. pip install konlpy"
   ]
  },
  {
   "cell_type": "code",
   "execution_count": 47,
   "metadata": {},
   "outputs": [
    {
     "name": "stdout",
     "output_type": "stream",
     "text": [
      "[('아버지', 'Noun'), ('가방', 'Noun'), ('에', 'Josa'), ('들어가다', 'Verb'), ('.', 'Punctuation')]\n"
     ]
    }
   ],
   "source": [
    "from konlpy.tag import Twitter\n",
    "twitter = Twitter()\n",
    "malist = twitter.pos(\"아버지 가방에 들어가신다.\", norm=True, stem=True)\n",
    "print(malist)"
   ]
  },
  {
   "cell_type": "markdown",
   "metadata": {},
   "source": [
    "## '토지'라는 문서의 단어 출현 빈도를 분석해보자\n",
    "Konlpy와 BeautifulSoup 라이브러리를 이용하여 단어 출현 빈도를 분석할려한다. \n"
   ]
  },
  {
   "cell_type": "code",
   "execution_count": 48,
   "metadata": {},
   "outputs": [],
   "source": [
    "import codecs\n",
    "from bs4 import BeautifulSoup"
   ]
  },
  {
   "cell_type": "markdown",
   "metadata": {},
   "source": [
    "#1.우선 미리 설치해둔 'toji.txt'파일에서 text만 뽑아내는 작업을 진행한다."
   ]
  },
  {
   "cell_type": "code",
   "execution_count": 49,
   "metadata": {
    "scrolled": true
   },
   "outputs": [
    {
     "name": "stdout",
     "output_type": "stream",
     "text": [
      "\n",
      "제 4 편 인실(仁實)의 자리\n",
      "4장 장례식 날 밤\n",
      "사건이 난 뒤 열흘이 지났으나 경찰은 범인의 흔적조차 찾아내질 못하였다. 온통 팽팽한 긴장 속에서 하마 어디서 쾅! 하고 터질지 모르는 소리를 초조하고 안타까운 마음으로 기다리고 있던 이 도시의 사람들, 그러나 열흘을 넘기면서 긴장은 풀리기 시작했고 사람들은 즐거움에 가슴이 뿌듯해져갔다. 어디서나 그 사건은 화제가 되었다. 모르는 사람끼리 눈과 눈이 마주치면 눈으로 이야기하였고 귓속말로 몸짓으로\n",
      "'꼭꼭 숨어라! 머리카락 보인다! 꼭꼭 숨어라!'\n",
      "들리지 않는 함성은 차츰차츰 도시를 \n"
     ]
    }
   ],
   "source": [
    "fp = codecs.open('toji.txt', 'r', encoding='utf-16')\n",
    "soup = BeautifulSoup(fp, 'html.parser')\n",
    "body = soup.select_one('body')\n",
    "text = body.getText()\n",
    "print(text[:300]) "
   ]
  },
  {
   "cell_type": "markdown",
   "metadata": {},
   "source": [
    "#2.텍스트를 한줄씩 처리할수있도록 분할하자."
   ]
  },
  {
   "cell_type": "code",
   "execution_count": 50,
   "metadata": {},
   "outputs": [
    {
     "name": "stdout",
     "output_type": "stream",
     "text": [
      "['', '제 4 편 인실(仁實)의 자리', '4장 장례식 날 밤', '사건이 난 뒤 열흘이 지났으나 경찰은 범인의 흔적조차 찾아내질 못하였다. 온통 팽팽한 긴장 속에서 하마 어디서 쾅! 하고 터질지 모르는 소리를 초조하고 안타까운 마음으로 기다리고 있던 이 도시의 사람들, 그러나 열흘을 넘기면서 긴장은 풀리기 시작했고 사람들은 즐거움에 가슴이 뿌듯해져갔다. 어디서나 그 사건은 화제가 되었다. 모르는 사람끼리 눈과 눈이 마주치면 눈으로 이야기하였고 귓속말로 몸짓으로', \"'꼭꼭 숨어라! 머리카락 보인다! 꼭꼭 숨어라!'\"]\n"
     ]
    }
   ],
   "source": [
    "twitter = Twitter()\n",
    "word_dic = {}\n",
    "lines = text.split('\\n')\n",
    "print(lines[:5])"
   ]
  },
  {
   "cell_type": "markdown",
   "metadata": {},
   "source": [
    "#3. 명사를 카운팅하자"
   ]
  },
  {
   "cell_type": "code",
   "execution_count": 51,
   "metadata": {},
   "outputs": [],
   "source": [
    "for line in lines:\n",
    "    malist = twitter.pos(line)\n",
    "    for word in malist:\n",
    "        if word[1] == \"Noun\": # 명사 확인\n",
    "            if not (word[0] in word_dic): # 새로운 단어 등록\n",
    "                word_dic[word[0]] = 0\n",
    "            word_dic[word[0]] += 1 # 카운트"
   ]
  },
  {
   "cell_type": "code",
   "execution_count": 52,
   "metadata": {},
   "outputs": [],
   "source": [
    "#4. 많이 출현한 명사 출력하기"
   ]
  },
  {
   "cell_type": "code",
   "execution_count": 53,
   "metadata": {},
   "outputs": [
    {
     "name": "stdout",
     "output_type": "stream",
     "text": [
      "것(1569) 그(1029) 말(660) 사람(488) 안(314) 내(312) 일본(289) 수(287) 일(254) 이(245) 그것(245) 때(228) 거(225) 나(214) 생각(201) 놈(179) 우리(170) 때문(164) 여자(162) 무(162) 일이(161) 두(155) 아이(153) 곳(150) 못(145) 얼굴(144) 왜(139) 자신(138) 게(138) 눈(132) 하나(132) 술(130) 니(127) 집(124) 뭐(123) 또(123) 무슨(120) 와(118) 영호(118) 어디(117) 듯(116) 얘기(115) 조선(115) 홍(115) 돈(113) 소리(111) 길(111) 환국(111) 제(108) 지금(108) \n"
     ]
    }
   ],
   "source": [
    "keys = sorted(word_dic.items(), key=lambda x:x[1], reverse=True)\n",
    "for word, count in keys[:50]: \n",
    "    print(\"{0}({1}) \".format(word, count), end=\"\")\n",
    "print()"
   ]
  },
  {
   "cell_type": "code",
   "execution_count": null,
   "metadata": {},
   "outputs": [],
   "source": []
  }
 ],
 "metadata": {
  "kernelspec": {
   "display_name": "Python 3",
   "language": "python",
   "name": "python3"
  },
  "language_info": {
   "codemirror_mode": {
    "name": "ipython",
    "version": 3
   },
   "file_extension": ".py",
   "mimetype": "text/x-python",
   "name": "python",
   "nbconvert_exporter": "python",
   "pygments_lexer": "ipython3",
   "version": "3.6.4"
  }
 },
 "nbformat": 4,
 "nbformat_minor": 2
}
